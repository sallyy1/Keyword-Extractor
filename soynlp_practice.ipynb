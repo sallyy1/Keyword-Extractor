{
 "cells": [
  {
   "cell_type": "code",
   "execution_count": 1,
   "id": "449f4e00",
   "metadata": {},
   "outputs": [
    {
     "name": "stdout",
     "output_type": "stream",
     "text": [
      "Collecting soynlp\n",
      "  Using cached soynlp-0.0.493-py3-none-any.whl (416 kB)\n",
      "Collecting psutil>=5.0.1\n",
      "  Downloading psutil-5.9.4-cp36-abi3-manylinux_2_12_x86_64.manylinux2010_x86_64.manylinux_2_17_x86_64.manylinux2014_x86_64.whl (280 kB)\n",
      "     |████████████████████████████████| 280 kB 16.0 MB/s            \n",
      "\u001b[?25hRequirement already satisfied: scikit-learn>=0.20.0 in /home/hyunkyung_lee/anaconda3/envs/pororo_test/lib/python3.6/site-packages (from soynlp) (0.24.2)\n",
      "Requirement already satisfied: scipy>=1.1.0 in /home/hyunkyung_lee/anaconda3/envs/pororo_test/lib/python3.6/site-packages (from soynlp) (1.5.4)\n",
      "Requirement already satisfied: numpy>=1.12.1 in /home/hyunkyung_lee/anaconda3/envs/pororo_test/lib/python3.6/site-packages (from soynlp) (1.19.2)\n",
      "Requirement already satisfied: threadpoolctl>=2.0.0 in /home/hyunkyung_lee/anaconda3/envs/pororo_test/lib/python3.6/site-packages (from scikit-learn>=0.20.0->soynlp) (3.1.0)\n",
      "Requirement already satisfied: joblib>=0.11 in /home/hyunkyung_lee/anaconda3/envs/pororo_test/lib/python3.6/site-packages (from scikit-learn>=0.20.0->soynlp) (1.1.1)\n",
      "Installing collected packages: psutil, soynlp\n",
      "Successfully installed psutil-5.9.4 soynlp-0.0.493\n"
     ]
    }
   ],
   "source": [
    "!pip install soynlp"
   ]
  },
  {
   "cell_type": "code",
   "execution_count": 3,
   "id": "319efc6c",
   "metadata": {},
   "outputs": [
    {
     "name": "stdout",
     "output_type": "stream",
     "text": [
      "/home/hyunkyung_lee\n"
     ]
    }
   ],
   "source": [
    "cd"
   ]
  },
  {
   "cell_type": "code",
   "execution_count": 2,
   "id": "8559de3f",
   "metadata": {},
   "outputs": [
    {
     "ename": "ModuleNotFoundError",
     "evalue": "No module named 'soynlp'",
     "output_type": "error",
     "traceback": [
      "\u001b[0;31m---------------------------------------------------------------------------\u001b[0m",
      "\u001b[0;31mModuleNotFoundError\u001b[0m                       Traceback (most recent call last)",
      "\u001b[0;32m/tmp/ipykernel_29914/2840810750.py\u001b[0m in \u001b[0;36m<module>\u001b[0;34m\u001b[0m\n\u001b[0;32m----> 1\u001b[0;31m \u001b[0;32mfrom\u001b[0m \u001b[0msoynlp\u001b[0m\u001b[0;34m.\u001b[0m\u001b[0mutils\u001b[0m \u001b[0;32mimport\u001b[0m \u001b[0mDoublespaceLineCorpus\u001b[0m\u001b[0;34m\u001b[0m\u001b[0;34m\u001b[0m\u001b[0m\n\u001b[0m\u001b[1;32m      2\u001b[0m \u001b[0;32mfrom\u001b[0m \u001b[0msoynlp\u001b[0m\u001b[0;34m.\u001b[0m\u001b[0mnoun\u001b[0m \u001b[0;32mimport\u001b[0m \u001b[0mLRNounExtractor_v2\u001b[0m\u001b[0;34m\u001b[0m\u001b[0;34m\u001b[0m\u001b[0m\n\u001b[1;32m      3\u001b[0m \u001b[0;34m\u001b[0m\u001b[0m\n\u001b[1;32m      4\u001b[0m \u001b[0mcorpus_path\u001b[0m \u001b[0;34m=\u001b[0m \u001b[0;34m'newsData/5/5000NewsData.txt'\u001b[0m\u001b[0;34m\u001b[0m\u001b[0;34m\u001b[0m\u001b[0m\n\u001b[1;32m      5\u001b[0m \u001b[0msents\u001b[0m \u001b[0;34m=\u001b[0m \u001b[0mDoublespaceLineCorpus\u001b[0m\u001b[0;34m(\u001b[0m\u001b[0mcorpus_path\u001b[0m\u001b[0;34m,\u001b[0m \u001b[0miter_sent\u001b[0m\u001b[0;34m=\u001b[0m\u001b[0;32mTrue\u001b[0m\u001b[0;34m)\u001b[0m\u001b[0;34m\u001b[0m\u001b[0;34m\u001b[0m\u001b[0m\n",
      "\u001b[0;31mModuleNotFoundError\u001b[0m: No module named 'soynlp'"
     ]
    }
   ],
   "source": [
    "from soynlp.utils import DoublespaceLineCorpus\n",
    "from soynlp.noun import LRNounExtractor_v2\n",
    "\n",
    "corpus_path = 'newsData/5/5000NewsData.txt'\n",
    "sents = DoublespaceLineCorpus(corpus_path, iter_sent=True)\n",
    "\n",
    "noun_extractor = LRNounExtractor_v2(verbose=True)\n",
    "nouns = noun_extractor.train_extract(sents)"
   ]
  },
  {
   "cell_type": "code",
   "execution_count": null,
   "id": "f204e149",
   "metadata": {},
   "outputs": [],
   "source": []
  }
 ],
 "metadata": {
  "kernelspec": {
   "display_name": "Python 3 (ipykernel)",
   "language": "python",
   "name": "python3"
  },
  "language_info": {
   "codemirror_mode": {
    "name": "ipython",
    "version": 3
   },
   "file_extension": ".py",
   "mimetype": "text/x-python",
   "name": "python",
   "nbconvert_exporter": "python",
   "pygments_lexer": "ipython3",
   "version": "3.9.7"
  }
 },
 "nbformat": 4,
 "nbformat_minor": 5
}
